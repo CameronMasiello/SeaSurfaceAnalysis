{
 "cells": [
  {
   "cell_type": "code",
   "execution_count": 2,
   "id": "d0d4aa04",
   "metadata": {},
   "outputs": [
    {
     "name": "stderr",
     "output_type": "stream",
     "text": [
      "2023-01-26 11:10:13,532 INFO Welcome to the CDS\n",
      "2023-01-26 11:10:13,534 INFO Sending request to https://cds.climate.copernicus.eu/api/v2/resources/reanalysis-era5-single-levels\n",
      "2023-01-26 11:10:13,719 INFO Request is queued\n",
      "2023-01-26 11:10:14,867 INFO Request is running\n",
      "2023-01-26 11:13:06,364 INFO Request is completed\n",
      "2023-01-26 11:13:06,367 INFO Downloading https://download-0021.copernicus-climate.eu/cache-compute-0021/cache/data8/adaptor.mars.internal-1674749481.4508588-9630-13-b143dc83-dd9b-4317-8b5c-96ee1afc61e2.nc to /Users/cameronmasiello/Desktop/ERA5 Data/August_September_1981_1990.nc (1.2G)\n",
      "2023-01-26 11:22:11,807 INFO Download rate 2.2M/s                               \n"
     ]
    },
    {
     "data": {
      "text/plain": [
       "Result(content_length=1266664960,content_type=application/x-netcdf,location=https://download-0021.copernicus-climate.eu/cache-compute-0021/cache/data8/adaptor.mars.internal-1674749481.4508588-9630-13-b143dc83-dd9b-4317-8b5c-96ee1afc61e2.nc)"
      ]
     },
     "execution_count": 2,
     "metadata": {},
     "output_type": "execute_result"
    }
   ],
   "source": [
    "import cdsapi\n",
    "\n",
    "c = cdsapi.Client()\n",
    "\n",
    "c.retrieve(\n",
    "    'reanalysis-era5-single-levels',\n",
    "    {\n",
    "        'product_type':'reanalysis',\n",
    "        'format':'netcdf',\n",
    "        'variable':[\n",
    "            'sea_surface_temperature'\n",
    "        ],\n",
    "        'time':[\n",
    "            '00:00'\n",
    "        ],\n",
    "        'year':[\n",
    "            '1981',\n",
    "            '1982','1983','1984',\n",
    "            '1985','1986','1987',\n",
    "            '1988','1989','1990'\n",
    "\n",
    "        ],\n",
    "        'day':[\n",
    "            '01','02','03','04','05','06','07','08','09','10',\n",
    "            '11','12','13','14','15','16','17','18','19','20',\n",
    "            '21','22','23','24','25','26','27','28','29','30',\n",
    "            '31'\n",
    "        ],\n",
    "        'month':[\n",
    "            '08','09'\n",
    "        ],\n",
    "        'area': [90, -180, -90, 180], #North, West, South, East\n",
    "        'grid': [.25, .25]\n",
    "    },\n",
    "   '/Users/cameronmasiello/Desktop/ERA5 Data/August_September_1981_1990.nc')\n"
   ]
  },
  {
   "cell_type": "code",
   "execution_count": 10,
   "id": "89c66e6e",
   "metadata": {},
   "outputs": [
    {
     "name": "stderr",
     "output_type": "stream",
     "text": [
      "2022-08-21 01:05:10,743 INFO Welcome to the CDS\n",
      "2022-08-21 01:05:10,745 INFO Sending request to https://cds.climate.copernicus.eu/api/v2/resources/reanalysis-era5-single-levels\n",
      "2022-08-21 01:05:10,927 INFO Request is queued\n",
      "2022-08-21 01:05:12,072 INFO Request is running\n",
      "2022-08-21 01:06:27,114 INFO Request is completed\n",
      "2022-08-21 01:06:27,118 INFO Downloading https://download-0002-clone.copernicus-climate.eu/cache-compute-0002/cache/data1/adaptor.mars.internal-1661058377.6922138-5044-1-538fc43b-0abe-4d17-8a81-7a943d6076b9.nc to /Users/cameronmasiello/Desktop/ERA5 Data/ERA5_SSTGlobeAverage_08_15_2022.nc (12.4M)\n",
      "2022-08-21 01:06:30,697 INFO Download rate 3.5M/s                               \n"
     ]
    },
    {
     "data": {
      "text/plain": [
       "Result(content_length=12989884,content_type=application/x-netcdf,location=https://download-0002-clone.copernicus-climate.eu/cache-compute-0002/cache/data1/adaptor.mars.internal-1661058377.6922138-5044-1-538fc43b-0abe-4d17-8a81-7a943d6076b9.nc)"
      ]
     },
     "execution_count": 10,
     "metadata": {},
     "output_type": "execute_result"
    }
   ],
   "source": [
    "import cdsapi\n",
    "\n",
    "c = cdsapi.Client()\n",
    "\n",
    "c.retrieve(\n",
    "    'reanalysis-era5-single-levels',\n",
    "    {\n",
    "        'product_type':'reanalysis',\n",
    "        'format':'netcdf',\n",
    "        'variable':[\n",
    "            'sea_surface_temperature'\n",
    "        ],\n",
    "        'time':[\n",
    "            '00:00'\n",
    "        ],\n",
    "        'year':[\n",
    "            '2022'\n",
    "        ],\n",
    "        'day':[\n",
    "            '15'\n",
    "        ],\n",
    "        'month':[\n",
    "            '08'\n",
    "        ],\n",
    "        'area': [90, -180, -90, 180], #North, West, South, East\n",
    "        'grid': [.25, .25]\n",
    "    },\n",
    "   '/Users/cameronmasiello/Desktop/ERA5 Data/ERA5_SSTGlobeAverage_08_15_2022.nc')\n"
   ]
  },
  {
   "cell_type": "code",
   "execution_count": null,
   "id": "d80c5d5f",
   "metadata": {},
   "outputs": [],
   "source": []
  }
 ],
 "metadata": {
  "kernelspec": {
   "display_name": "Python 3 (ipykernel)",
   "language": "python",
   "name": "python3"
  },
  "language_info": {
   "codemirror_mode": {
    "name": "ipython",
    "version": 3
   },
   "file_extension": ".py",
   "mimetype": "text/x-python",
   "name": "python",
   "nbconvert_exporter": "python",
   "pygments_lexer": "ipython3",
   "version": "3.9.12"
  }
 },
 "nbformat": 4,
 "nbformat_minor": 5
}
